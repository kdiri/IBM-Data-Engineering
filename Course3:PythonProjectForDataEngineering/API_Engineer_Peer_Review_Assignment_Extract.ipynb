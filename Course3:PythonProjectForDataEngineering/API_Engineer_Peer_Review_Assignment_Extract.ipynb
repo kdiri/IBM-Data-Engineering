{
 "cells": [
  {
   "cell_type": "markdown",
   "metadata": {},
   "source": [
    "<center>\n",
    "    <img src=\"https://gitlab.com/ibm/skills-network/courses/placeholder101/-/raw/master/labs/module%201/images/IDSNlogo.png\" width=\"300\" alt=\"cognitiveclass.ai logo\"  />\n",
    "</center>\n"
   ]
  },
  {
   "cell_type": "markdown",
   "metadata": {},
   "source": [
    "# Peer Review Assignment - Data Engineer - Extract API Data\n"
   ]
  },
  {
   "cell_type": "markdown",
   "metadata": {},
   "source": [
    "Estimated time needed: **20** minutes\n"
   ]
  },
  {
   "cell_type": "markdown",
   "metadata": {},
   "source": [
    "## Objectives\n",
    "\n",
    "In this part you will:\n",
    "\n",
    "*   Collect exchange rate data using an API\n",
    "*   Store the data as a CSV\n"
   ]
  },
  {
   "cell_type": "markdown",
   "metadata": {},
   "source": [
    "For this lab, we are going to be using Python and several Python libraries. Some of these libraries might be installed in your lab environment or in SN Labs. Others may need to be installed by you. The cells below will install these libraries when executed.\n"
   ]
  },
  {
   "cell_type": "code",
   "execution_count": 1,
   "metadata": {},
   "outputs": [],
   "source": [
    "#!pip install pandas\n",
    "#!pip install requests"
   ]
  },
  {
   "cell_type": "markdown",
   "metadata": {},
   "source": [
    "## Imports\n",
    "\n",
    "Import any additional libraries you may need here.\n"
   ]
  },
  {
   "cell_type": "code",
   "execution_count": 2,
   "metadata": {},
   "outputs": [],
   "source": [
    "import requests\n",
    "import pandas as pd"
   ]
  },
  {
   "cell_type": "markdown",
   "metadata": {},
   "source": [
    "## Extract Data Using an API\n"
   ]
  },
  {
   "cell_type": "markdown",
   "metadata": {},
   "source": [
    "Using ExchangeRate-API we will extract currency exchange rate data. Use the below steps to get the access key and to get the data.\n",
    "\n",
    "1.  Open the url : [https://exchangeratesapi.io/](https://exchangeratesapi.io/?utm_medium=Exinfluencer&utm_source=Exinfluencer&utm_content=000026UJ&utm_term=10006555&utm_id=NA-SkillsNetwork-Channel-SkillsNetworkCoursesIBMDeveloperSkillsNetworkPY0221ENSkillsNetwork23455645-2021-01-01) and create a free account.\n",
    "2.  Once the account is created. You will get the Get the Free API key option on the top as shown below:\n",
    "\n",
    "<img src=\"https://cf-courses-data.s3.us.cloud-object-storage.appdomain.cloud/IBMDeveloperSkillsNetwork-PY0221EN-SkillsNetwork/labs/module%206/Final%20Assignment/Images/getapi.png\"/>\n",
    "\n",
    "3.  Copy the API key and use in the url in Question 1.\n"
   ]
  },
  {
   "cell_type": "markdown",
   "metadata": {},
   "source": [
    "### Call the API\n",
    "\n",
    "<b> Question 1</b> Using the `requests` library call the endpoint given above and save the text, remember the first few characters of the output:\n"
   ]
  },
  {
   "cell_type": "code",
   "execution_count": 6,
   "metadata": {},
   "outputs": [],
   "source": [
    "# Write your code here\n",
    "url = \"http://api.exchangeratesapi.io/v1/latest?base=EUR&access_key=405c9f7da45bb335c0eade649b3e55cb\"  #Make sure to change ******* to your API key.\n",
    "response = requests.get(url)\n",
    "data = response.json()"
   ]
  },
  {
   "cell_type": "code",
   "execution_count": 7,
   "metadata": {},
   "outputs": [
    {
     "data": {
      "text/plain": [
       "{'success': True,\n",
       " 'timestamp': 1640463543,\n",
       " 'base': 'EUR',\n",
       " 'date': '2021-12-25',\n",
       " 'rates': {'AED': 4.165371,\n",
       "  'AFN': 117.377534,\n",
       "  'ALL': 120.492072,\n",
       "  'AMD': 542.036945,\n",
       "  'ANG': 2.043896,\n",
       "  'AOA': 639.942633,\n",
       "  'ARS': 115.930958,\n",
       "  'AUD': 1.57165,\n",
       "  'AWG': 2.04127,\n",
       "  'AZN': 1.932368,\n",
       "  'BAM': 1.958029,\n",
       "  'BBD': 2.289772,\n",
       "  'BDT': 97.211085,\n",
       "  'BGN': 1.95937,\n",
       "  'BHD': 0.427374,\n",
       "  'BIF': 2270.34552,\n",
       "  'BMD': 1.134039,\n",
       "  'BND': 1.537627,\n",
       "  'BOB': 7.830595,\n",
       "  'BRL': 6.435513,\n",
       "  'BSD': 1.134074,\n",
       "  'BTC': 2.2253489e-05,\n",
       "  'BTN': 85.058035,\n",
       "  'BWP': 13.179002,\n",
       "  'BYN': 2.855842,\n",
       "  'BYR': 22227.158936,\n",
       "  'BZD': 2.285867,\n",
       "  'CAD': 1.452988,\n",
       "  'CDF': 2270.34593,\n",
       "  'CHF': 1.043811,\n",
       "  'CLF': 0.035568,\n",
       "  'CLP': 981.420239,\n",
       "  'CNY': 7.22111,\n",
       "  'COP': 4526.515556,\n",
       "  'CRC': 728.818589,\n",
       "  'CUC': 1.134039,\n",
       "  'CUP': 30.052026,\n",
       "  'CVE': 111.02681,\n",
       "  'CZK': 25.070312,\n",
       "  'DJF': 201.541808,\n",
       "  'DKK': 7.450072,\n",
       "  'DOP': 64.984826,\n",
       "  'DZD': 157.439775,\n",
       "  'EGP': 17.810092,\n",
       "  'ERN': 17.010669,\n",
       "  'ETB': 55.458889,\n",
       "  'EUR': 1,\n",
       "  'FJD': 2.416682,\n",
       "  'FKP': 0.855495,\n",
       "  'GBP': 0.847088,\n",
       "  'GEL': 3.481942,\n",
       "  'GGP': 0.855495,\n",
       "  'GHS': 6.974781,\n",
       "  'GIP': 0.855495,\n",
       "  'GMD': 59.594177,\n",
       "  'GNF': 10603.262447,\n",
       "  'GTQ': 8.753504,\n",
       "  'GYD': 237.33657,\n",
       "  'HKD': 8.845786,\n",
       "  'HNL': 27.630899,\n",
       "  'HRK': 7.526053,\n",
       "  'HTG': 113.887916,\n",
       "  'HUF': 369.855828,\n",
       "  'IDR': 16091.272329,\n",
       "  'ILS': 3.574275,\n",
       "  'IMP': 0.855495,\n",
       "  'INR': 85.500894,\n",
       "  'IQD': 1656.263552,\n",
       "  'IRR': 47913.136371,\n",
       "  'ISK': 147.493514,\n",
       "  'JEP': 0.855495,\n",
       "  'JMD': 174.383863,\n",
       "  'JOD': 0.804078,\n",
       "  'JPY': 129.741406,\n",
       "  'KES': 128.316918,\n",
       "  'KGS': 96.1539,\n",
       "  'KHR': 4621.208187,\n",
       "  'KMF': 493.732153,\n",
       "  'KPW': 1020.634761,\n",
       "  'KRW': 1346.127078,\n",
       "  'KWD': 0.343183,\n",
       "  'KYD': 0.945061,\n",
       "  'KZT': 491.471832,\n",
       "  'LAK': 12655.872525,\n",
       "  'LBP': 1714.809623,\n",
       "  'LKR': 229.645932,\n",
       "  'LRD': 162.536144,\n",
       "  'LSL': 17.600714,\n",
       "  'LTL': 3.348522,\n",
       "  'LVL': 0.685969,\n",
       "  'LYD': 5.220848,\n",
       "  'MAD': 10.50163,\n",
       "  'MDL': 20.214504,\n",
       "  'MGA': 4485.123536,\n",
       "  'MKD': 61.67421,\n",
       "  'MMK': 2016.347807,\n",
       "  'MNT': 3241.518877,\n",
       "  'MOP': 9.110032,\n",
       "  'MRO': 404.851628,\n",
       "  'MUR': 49.538137,\n",
       "  'MVR': 17.521327,\n",
       "  'MWK': 919.705794,\n",
       "  'MXN': 23.381388,\n",
       "  'MYR': 4.757336,\n",
       "  'MZN': 72.38612,\n",
       "  'NAD': 17.600709,\n",
       "  'NGN': 466.0223,\n",
       "  'NIO': 40.156738,\n",
       "  'NOK': 10.032051,\n",
       "  'NPR': 136.092856,\n",
       "  'NZD': 1.663667,\n",
       "  'OMR': 0.436478,\n",
       "  'PAB': 1.134074,\n",
       "  'PEN': 4.540128,\n",
       "  'PGK': 4.003582,\n",
       "  'PHP': 56.718462,\n",
       "  'PKR': 201.976496,\n",
       "  'PLN': 4.627727,\n",
       "  'PYG': 7729.681767,\n",
       "  'QAR': 4.129079,\n",
       "  'RON': 4.958475,\n",
       "  'RSD': 117.804366,\n",
       "  'RUB': 83.536132,\n",
       "  'RWF': 1139.708915,\n",
       "  'SAR': 4.257849,\n",
       "  'SBD': 9.182524,\n",
       "  'SCR': 15.077782,\n",
       "  'SDG': 496.146112,\n",
       "  'SEK': 10.352077,\n",
       "  'SGD': 1.541276,\n",
       "  'SHP': 1.562029,\n",
       "  'SLL': 12854.329289,\n",
       "  'SOS': 664.547074,\n",
       "  'SRD': 23.323818,\n",
       "  'STD': 23472.311914,\n",
       "  'SVC': 9.923145,\n",
       "  'SYP': 2849.264103,\n",
       "  'SZL': 17.6007,\n",
       "  'THB': 37.899993,\n",
       "  'TJS': 12.80139,\n",
       "  'TMT': 3.969136,\n",
       "  'TND': 3.257531,\n",
       "  'TOP': 2.583624,\n",
       "  'TRY': 12.464678,\n",
       "  'TTD': 7.71016,\n",
       "  'TWD': 31.406413,\n",
       "  'TZS': 2615.093672,\n",
       "  'UAH': 30.862129,\n",
       "  'UGX': 4013.853455,\n",
       "  'USD': 1.134039,\n",
       "  'UYU': 50.351553,\n",
       "  'UZS': 12247.618569,\n",
       "  'VEF': 242491751898.406,\n",
       "  'VND': 25912.78478,\n",
       "  'VUV': 128.432894,\n",
       "  'WST': 2.948695,\n",
       "  'XAF': 656.694581,\n",
       "  'XAG': 0.049643,\n",
       "  'XAU': 0.000628,\n",
       "  'XCD': 3.064797,\n",
       "  'XDR': 0.81031,\n",
       "  'XOF': 655.474758,\n",
       "  'XPF': 120.151815,\n",
       "  'YER': 283.793603,\n",
       "  'ZAR': 17.667689,\n",
       "  'ZMK': 10207.713412,\n",
       "  'ZMW': 18.740249,\n",
       "  'ZWL': 365.160006}}"
      ]
     },
     "execution_count": 7,
     "metadata": {},
     "output_type": "execute_result"
    }
   ],
   "source": [
    "data"
   ]
  },
  {
   "cell_type": "markdown",
   "metadata": {},
   "source": [
    "### Save as DataFrame\n",
    "\n",
    "<b> Question 2</b>  Using the data gathered turn it into a `pandas` dataframe. The dataframe should have the Currency as the index and `Rate` as their columns. Make sure to drop unnecessary columns.\n"
   ]
  },
  {
   "cell_type": "code",
   "execution_count": 10,
   "metadata": {},
   "outputs": [
    {
     "data": {
      "text/html": [
       "<div>\n",
       "<style scoped>\n",
       "    .dataframe tbody tr th:only-of-type {\n",
       "        vertical-align: middle;\n",
       "    }\n",
       "\n",
       "    .dataframe tbody tr th {\n",
       "        vertical-align: top;\n",
       "    }\n",
       "\n",
       "    .dataframe thead th {\n",
       "        text-align: right;\n",
       "    }\n",
       "</style>\n",
       "<table border=\"1\" class=\"dataframe\">\n",
       "  <thead>\n",
       "    <tr style=\"text-align: right;\">\n",
       "      <th></th>\n",
       "      <th>0</th>\n",
       "    </tr>\n",
       "  </thead>\n",
       "  <tbody>\n",
       "    <tr>\n",
       "      <th>AED</th>\n",
       "      <td>4.165371</td>\n",
       "    </tr>\n",
       "    <tr>\n",
       "      <th>AFN</th>\n",
       "      <td>117.377534</td>\n",
       "    </tr>\n",
       "    <tr>\n",
       "      <th>ALL</th>\n",
       "      <td>120.492072</td>\n",
       "    </tr>\n",
       "    <tr>\n",
       "      <th>AMD</th>\n",
       "      <td>542.036945</td>\n",
       "    </tr>\n",
       "    <tr>\n",
       "      <th>ANG</th>\n",
       "      <td>2.043896</td>\n",
       "    </tr>\n",
       "  </tbody>\n",
       "</table>\n",
       "</div>"
      ],
      "text/plain": [
       "              0\n",
       "AED    4.165371\n",
       "AFN  117.377534\n",
       "ALL  120.492072\n",
       "AMD  542.036945\n",
       "ANG    2.043896"
      ]
     },
     "execution_count": 10,
     "metadata": {},
     "output_type": "execute_result"
    }
   ],
   "source": [
    "# Turn the data into a dataframe\n",
    "df = pd.DataFrame.from_dict(data['rates'], orient='index')\n",
    "df.head()"
   ]
  },
  {
   "cell_type": "code",
   "execution_count": null,
   "metadata": {},
   "outputs": [],
   "source": [
    "# Drop unnescessary columns\n",
    "df = df.rename(columns=)"
   ]
  },
  {
   "cell_type": "markdown",
   "metadata": {},
   "source": [
    "### Load the Data\n",
    "\n",
    "Using the dataframe save it as a CSV names `exchange_rates_1.csv`.\n"
   ]
  },
  {
   "cell_type": "code",
   "execution_count": null,
   "metadata": {},
   "outputs": [],
   "source": [
    "# Save the Dataframe\n"
   ]
  },
  {
   "cell_type": "markdown",
   "metadata": {},
   "source": [
    "Your CSV should be in this format with more currencies\n",
    "\n",
    "|     | Rates      |\n",
    "| --- | ---------- |\n",
    "| AED | 4.398618   |\n",
    "| AFN | 92.917693  |\n",
    "| ALL | 123.099093 |\n",
    "| AMD | 621.935674 |\n",
    "| ANG | 2.149648   |\n"
   ]
  },
  {
   "cell_type": "markdown",
   "metadata": {},
   "source": [
    "## Authors\n"
   ]
  },
  {
   "cell_type": "markdown",
   "metadata": {},
   "source": [
    "Ramesh Sannareddy, Joseph Santarcangelo and Azim Hirjani\n"
   ]
  },
  {
   "cell_type": "markdown",
   "metadata": {},
   "source": [
    "### Other Contributors\n"
   ]
  },
  {
   "cell_type": "markdown",
   "metadata": {},
   "source": [
    "Rav Ahuja\n"
   ]
  },
  {
   "cell_type": "markdown",
   "metadata": {},
   "source": [
    "## Change Log\n"
   ]
  },
  {
   "cell_type": "markdown",
   "metadata": {},
   "source": [
    "| Date (YYYY-MM-DD) | Version | Changed By        | Change Description                 |\n",
    "| ----------------- | ------- | ----------------- | ---------------------------------- |\n",
    "| 2021-04-15        | 0.2     | Malika            | Updated the lab from USD to EUR    |\n",
    "| 2020-11-25        | 0.1     | Ramesh Sannareddy | Created initial version of the lab |\n"
   ]
  },
  {
   "cell_type": "markdown",
   "metadata": {},
   "source": [
    "Copyright © 2020 IBM Corporation. This notebook and its source code are released under the terms of the [MIT License](https://cognitiveclass.ai/mit-license?utm_medium=Exinfluencer&utm_source=Exinfluencer&utm_content=000026UJ&utm_term=10006555&utm_id=NA-SkillsNetwork-Channel-SkillsNetworkCoursesIBMDeveloperSkillsNetworkPY0221ENSkillsNetwork23455645-2021-01-01&cm_mmc=Email_Newsletter-\\_-Developer_Ed%2BTech-\\_-WW_WW-\\_-SkillsNetwork-Courses-IBM-DA0321EN-SkillsNetwork-21426264&cm_mmca1=000026UJ&cm_mmca2=10006555&cm_mmca3=M12345678&cvosrc=email.Newsletter.M12345678&cvo_campaign=000026UJ).\n"
   ]
  }
 ],
 "metadata": {
  "kernelspec": {
   "display_name": "Python",
   "language": "python",
   "name": "conda-env-python-py"
  },
  "language_info": {
   "codemirror_mode": {
    "name": "ipython",
    "version": 3
   },
   "file_extension": ".py",
   "mimetype": "text/x-python",
   "name": "python",
   "nbconvert_exporter": "python",
   "pygments_lexer": "ipython3",
   "version": "3.7.12"
  }
 },
 "nbformat": 4,
 "nbformat_minor": 4
}
